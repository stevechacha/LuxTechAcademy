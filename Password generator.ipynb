{
 "cells": [
  {
   "cell_type": "markdown",
   "id": "c495882b",
   "metadata": {},
   "source": [
    "#### Generate a random Password"
   ]
  },
  {
   "cell_type": "markdown",
   "id": "1c48b464",
   "metadata": {},
   "source": [
    "\n",
    "### steps creating random string\n",
    "### 1.Import string and random module\n",
    "\n",
    "The string module contains various string constant which contains the ASCII characters of all cases.\n",
    "It has separate constants for lowercase, uppercase letters, digits, and special symbols, which we use as a source to generate a random string.\n",
    "Pass string constants as a source of randomness to the random module to create a random string\n",
    "\n",
    "```python\n",
    "import random\n",
    "import string\n",
    "```\n",
    "\n",
    "### 2.Use the string constant ascii_lowercase\n",
    "The``string.ascii_lowercase`` returns a list of all the lowercase letters from ‘a’ to ‘z’. This data will be used as a source to generate random characters.Decide the length of a string\n",
    "Decide how many characters you want in the resultant string.\n",
    "\n",
    "### 3.Use a for loop and random choice() function to choose characters from a source\n",
    "Execute a for loop till the decided string length and use the random.choice() function in each iteration to pick a single character from the string constant and add it to the string variable using a `join()` function. print the final string after loop competition\n",
    "\n",
    "### 4.Generate a random Password\n",
    "Use the `string.ascii_letters`, string.digits, and string.punctuation constants together to create a random password and repeat the first four steps."
   ]
  },
  {
   "cell_type": "code",
   "execution_count": 1,
   "id": "f13f7abd",
   "metadata": {},
   "outputs": [],
   "source": [
    "import random\n",
    "import string\n",
    "\n",
    "def get_random_string(length):\n",
    "    # choose from all lowercase letter\n",
    "    letters = string.ascii_lowercase\n",
    "    result_str = ''.join(random.choice(letters) for i in range(length))\n",
    "    print(\"Random string of length\", length, \"is:\", result_str)"
   ]
  },
  {
   "cell_type": "code",
   "execution_count": 2,
   "id": "22382b76",
   "metadata": {},
   "outputs": [
    {
     "name": "stdout",
     "output_type": "stream",
     "text": [
      "Random string of length 8 is: ftvizgnj\n"
     ]
    }
   ],
   "source": [
    "get_random_string(8)"
   ]
  },
  {
   "cell_type": "code",
   "execution_count": 3,
   "id": "47d841a8",
   "metadata": {},
   "outputs": [
    {
     "name": "stdout",
     "output_type": "stream",
     "text": [
      "Random string of length 6 is: znrnum\n"
     ]
    }
   ],
   "source": [
    "get_random_string(6)"
   ]
  },
  {
   "cell_type": "code",
   "execution_count": 4,
   "id": "a1d5f112",
   "metadata": {},
   "outputs": [
    {
     "name": "stdout",
     "output_type": "stream",
     "text": [
      "Random string of length 4 is: vejc\n"
     ]
    }
   ],
   "source": [
    "get_random_string(4)"
   ]
  },
  {
   "cell_type": "code",
   "execution_count": 5,
   "id": "1fe8a1d3",
   "metadata": {},
   "outputs": [
    {
     "name": "stdout",
     "output_type": "stream",
     "text": [
      "hello, Welcome to Password generator!\n",
      "\n",
      "Enter the length of password: 10\n",
      "tc8U<:`'dp\n"
     ]
    }
   ],
   "source": [
    "\n",
    "print('hello, Welcome to Password generator!')\n",
    "\n",
    "#input the length of password\n",
    "length = int(input('\\nEnter the length of password: '))                      \n",
    "\n",
    "#define data\n",
    "lower = string.ascii_lowercase\n",
    "upper = string.ascii_uppercase\n",
    "num = string.digits\n",
    "symbols = string.punctuation\n",
    "#string.ascii_letters\n",
    "\n",
    "#combine the data\n",
    "all = lower + upper + num + symbols\n",
    "\n",
    "#use random \n",
    "temp = random.sample(all,length)\n",
    "\n",
    "#create the password \n",
    "password = \"\".join(temp)\n",
    "\n",
    "#print the password\n",
    "print(password)\n"
   ]
  },
  {
   "cell_type": "markdown",
   "id": "2e1fdf70",
   "metadata": {},
   "source": [
    "#### Random String of Lower Case and Upper Case Letters"
   ]
  },
  {
   "cell_type": "code",
   "execution_count": 6,
   "id": "f8818f16",
   "metadata": {},
   "outputs": [],
   "source": [
    "import random\n",
    "import string\n",
    "\n",
    "def get_random_string(length):\n",
    "    # With combination of lower and upper case\n",
    "    result_str = ''.join(random.choice(string.ascii_letters) for i in range(length))\n",
    "    # print random string\n",
    "    print(result_str)\n",
    "\n",
    "\n",
    "\n"
   ]
  },
  {
   "cell_type": "code",
   "execution_count": 7,
   "id": "2a0acd76",
   "metadata": {},
   "outputs": [
    {
     "name": "stdout",
     "output_type": "stream",
     "text": [
      "dPRUSiDy\n"
     ]
    }
   ],
   "source": [
    "get_random_string(8) # string of length 8"
   ]
  },
  {
   "cell_type": "code",
   "execution_count": 8,
   "id": "630d5ded",
   "metadata": {},
   "outputs": [
    {
     "name": "stdout",
     "output_type": "stream",
     "text": [
      "wsHaeUxv\n"
     ]
    }
   ],
   "source": [
    "get_random_string(8)"
   ]
  },
  {
   "cell_type": "markdown",
   "id": "bd5d0da2",
   "metadata": {},
   "source": [
    "### Random string of specific letters\n",
    "\n",
    "If you wanted to generate a random string from a fixed set of characters, please use the following example."
   ]
  },
  {
   "cell_type": "code",
   "execution_count": 9,
   "id": "9bd34149",
   "metadata": {},
   "outputs": [
    {
     "name": "stdout",
     "output_type": "stream",
     "text": [
      "rxaxq\n"
     ]
    }
   ],
   "source": [
    "import random\n",
    "\n",
    "# Random string of length 5\n",
    "result_str = ''.join((random.choice('abcdxyzpqr') for i in range(5)))\n",
    "print(result_str)"
   ]
  },
  {
   "cell_type": "markdown",
   "id": "c1cba35b",
   "metadata": {},
   "source": [
    "### Random String without Repeating Characters\n",
    "Note: The choice() method can repeat characters. If you don’t want repeated characters in a resultant string, then use the random.sample() method."
   ]
  },
  {
   "cell_type": "code",
   "execution_count": 10,
   "id": "a708205a",
   "metadata": {},
   "outputs": [
    {
     "name": "stdout",
     "output_type": "stream",
     "text": [
      "gmhvjaif\n",
      "ehxislun\n",
      "chkeoavt\n"
     ]
    }
   ],
   "source": [
    "import random\n",
    "import string\n",
    "\n",
    "for i in range(3):\n",
    "    # get random string of length 6 without repeating letters\n",
    "    result_str = ''.join(random.sample(string.ascii_lowercase, 8))\n",
    "    print(result_str)\n",
    "    "
   ]
  },
  {
   "cell_type": "markdown",
   "id": "9550b8bc",
   "metadata": {},
   "source": [
    " ####   Create Random Password with Special characters, letters, and digits\n",
    "A password that contains a combination of characters, digits, and special symbols is considered a strong password.\n"
   ]
  },
  {
   "cell_type": "markdown",
   "id": "32dcb487",
   "metadata": {},
   "source": [
    "### Generate a random string token\n",
    "We can use secrets.token_hex() to get a secure random text in hexadecimal format.\n"
   ]
  },
  {
   "cell_type": "code",
   "execution_count": 11,
   "id": "f9e7377b",
   "metadata": {},
   "outputs": [
    {
     "name": "stdout",
     "output_type": "stream",
     "text": [
      "Secure hexadecimal string token 0544c9c492e0cda52d7ba7f0ce78f1fa58467fc9d420c3b9a79c4553c47b29ef\n"
     ]
    }
   ],
   "source": [
    "\n",
    "import secrets\n",
    "print(\"Secure hexadecimal string token\", secrets.token_hex(32))"
   ]
  },
  {
   "cell_type": "markdown",
   "id": "37b32d7e",
   "metadata": {},
   "source": [
    "### Generate universally unique secure random string Id\n",
    "The random string generated using a UUID module is suitable for the Cryptographically secure application. The UUID module has various functions to do this. Here in this example, we are using a uuid4() function to generate a random string Id."
   ]
  },
  {
   "cell_type": "code",
   "execution_count": 12,
   "id": "bd7faac8",
   "metadata": {},
   "outputs": [
    {
     "name": "stdout",
     "output_type": "stream",
     "text": [
      "Secure unique string id 2fe6001a-3c06-455e-ac3d-672e60aa093b\n"
     ]
    }
   ],
   "source": [
    "import uuid\n",
    "stringId  = uuid.uuid4()\n",
    "print(\"Secure unique string id\", stringId)"
   ]
  },
  {
   "cell_type": "markdown",
   "id": "2a956d2e",
   "metadata": {},
   "source": [
    "### Use the StringGenerator module to generate a random string\n",
    "The StringGenerator module is not a part of a standard library. However, if you want you can install it using pip and start using it.\n",
    "\n",
    "Steps: –\n",
    "\n",
    "pip install StringGenerator.\n",
    "Use a render() function of StringGenerator to generate randomized strings of characters using a template\n"
   ]
  },
  {
   "cell_type": "code",
   "execution_count": 14,
   "id": "02063755",
   "metadata": {},
   "outputs": [
    {
     "name": "stdout",
     "output_type": "stream",
     "text": [
      "X2iQYH8t84\n",
      "83WFm*4;\n"
     ]
    }
   ],
   "source": [
    "import strgen\n",
    "\n",
    "random_str = strgen.StringGenerator(\"[\\w\\d]{10}\").render()\n",
    "print(random_str)\n",
    "# Output 4VX1yInC9S\n",
    "\n",
    "random_str2 = strgen.StringGenerator(\"[\\d]{3}&[\\w]{3}&[\\p]{2}\").render()\n",
    "print(random_str2)"
   ]
  },
  {
   "cell_type": "markdown",
   "id": "86be37f0",
   "metadata": {},
   "source": [
    "### Random alphanumeric string with a fixed count of letters and digits"
   ]
  },
  {
   "cell_type": "code",
   "execution_count": 15,
   "id": "3c748c2a",
   "metadata": {},
   "outputs": [
    {
     "name": "stdout",
     "output_type": "stream",
     "text": [
      "Random string with 5 letters and 3 digits is: g0GE99wG\n",
      "Random string with 6 letters and 2 digits is: 1Wh0XzyY\n"
     ]
    }
   ],
   "source": [
    "import random\n",
    "import string\n",
    "\n",
    "def get_string(letters_count, digits_count):\n",
    "    letters = ''.join((random.choice(string.ascii_letters) for i in range(letters_count)))\n",
    "    digits = ''.join((random.choice(string.digits) for i in range(digits_count)))\n",
    "\n",
    "    # Convert resultant string to list and shuffle it to mix letters and digits\n",
    "    sample_list = list(letters + digits)\n",
    "    random.shuffle(sample_list)\n",
    "    # convert list to string\n",
    "    final_string = ''.join(sample_list)\n",
    "    print('Random string with', letters_count, 'letters', 'and', digits_count, 'digits', 'is:', final_string)\n",
    "\n",
    "get_string(5, 3)\n",
    "\n",
    "\n",
    "get_string(6, 2)"
   ]
  },
  {
   "cell_type": "code",
   "execution_count": null,
   "id": "99cac35d",
   "metadata": {},
   "outputs": [],
   "source": []
  }
 ],
 "metadata": {
  "kernelspec": {
   "display_name": "Python 3",
   "language": "python",
   "name": "python3"
  },
  "language_info": {
   "codemirror_mode": {
    "name": "ipython",
    "version": 3
   },
   "file_extension": ".py",
   "mimetype": "text/x-python",
   "name": "python",
   "nbconvert_exporter": "python",
   "pygments_lexer": "ipython3",
   "version": "3.8.8"
  }
 },
 "nbformat": 4,
 "nbformat_minor": 5
}
